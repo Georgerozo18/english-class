{
  "nbformat": 4,
  "nbformat_minor": 0,
  "metadata": {
    "colab": {
      "private_outputs": true,
      "provenance": []
    },
    "kernelspec": {
      "name": "python3",
      "display_name": "Python 3"
    },
    "language_info": {
      "name": "python"
    }
  },
  "cells": [
    {
      "cell_type": "code",
      "execution_count": null,
      "metadata": {
        "id": "OcUEYTU2NqEp"
      },
      "outputs": [],
      "source": [
        "# Step 1: Set up the environment\n",
        "!pip install opencv-python\n",
        "!pip install opencv-python-headless\n",
        "!pip install requests"
      ]
    },
    {
      "cell_type": "code",
      "source": [
        "# Step 2: Import the libraries\n",
        "import cv2\n",
        "import numpy as np\n",
        "import requests\n",
        "import matplotlib.pyplot as plt"
      ],
      "metadata": {
        "id": "I_3unT7hNvQm"
      },
      "execution_count": null,
      "outputs": []
    },
    {
      "cell_type": "code",
      "source": [
        "# Step 3: Retrieve the image via requests\n",
        "# URL of the image\n",
        "url = \"https://variety.com/wp-content/uploads/2022/08/Jonah-Hill.jpg?w=1000&h=563&crop=1\"\n",
        "response = requests.get(url)  # Makes an HTTP GET request to retrieve the image from the URL.\n",
        "\n",
        "# Check if the request was successful\n",
        "if response.status_code == 200:  # Verifies that the response is successful (status code 200).\n",
        "    # Convert the response data into a numpy array\n",
        "    image = np.array(bytearray(response.content), dtype=np.uint8)\n",
        "    # Decode the image from the numpy array and load it in color format\n",
        "    image = cv2.imdecode(image, cv2.IMREAD_COLOR)\n",
        "\n",
        "    # Verify if the image was loaded correctly\n",
        "    if image is not None:\n",
        "        # OpenCV loads images in BGR format, so we convert it to RGB to display correctly with matplotlib.\n",
        "        image = cv2.cvtColor(image, cv2.COLOR_BGR2RGB)\n",
        "\n",
        "        # Show the original image\n",
        "        plt.imshow(image)\n",
        "        plt.axis('off')  # Do not show axes\n",
        "        plt.title('Original Image')  # Title of the image\n",
        "        plt.show()  # Display the image\n",
        "    else:\n",
        "        print(\"Error: The image was not loaded correctly.\")\n",
        "else:\n",
        "    print(f\"Error loading the image. Status code: {response.status_code}\")"
      ],
      "metadata": {
        "id": "Zouqp0RSOBY1"
      },
      "execution_count": null,
      "outputs": []
    },
    {
      "cell_type": "code",
      "source": [
        "# Step 4: Detect faces\n",
        "# Load the cascade classifier for face detection\n",
        "face_cascade = cv2.CascadeClassifier(cv2.data.haarcascades + 'haarcascade_frontalface_default.xml')\n",
        "\n",
        "# Convert the image to grayscale since face detection works better in grayscale.\n",
        "gray_image = cv2.cvtColor(image, cv2.COLOR_RGB2GRAY)\n",
        "\n",
        "# Detect faces in the image\n",
        "faces = face_cascade.detectMultiScale(gray_image, scaleFactor=1.1, minNeighbors=5)\n",
        "\n",
        "# Draw rectangles around the detected faces\n",
        "for (x, y, w, h) in faces:\n",
        "    # Draw a red rectangle around each detected face\n",
        "    cv2.rectangle(image, (x, y), (x+w, y+h), (255, 0, 0), 2)\n",
        "\n",
        "# Show the image with detected faces\n",
        "plt.figure(figsize=(10, 6))  # Adjust the size of the figure\n",
        "plt.imshow(image)\n",
        "plt.axis('on')  # Show axes\n",
        "plt.title('Face Detection', fontsize=16)  # Title\n",
        "plt.show()"
      ],
      "metadata": {
        "id": "sxMTjIpzOIK-"
      },
      "execution_count": null,
      "outputs": []
    },
    {
      "cell_type": "code",
      "source": [
        "# Step 5: Detect eyes\n",
        "# Load the cascade classifier for eye detection\n",
        "eye_cascade = cv2.CascadeClassifier(cv2.data.haarcascades + 'haarcascade_eye.xml')\n",
        "\n",
        "# Detect eyes in the face region\n",
        "for (x, y, w, h) in faces:\n",
        "    # Extract the region of interest for the face in grayscale\n",
        "    roi_gray = gray_image[y:y+h, x:x+w]  # Region of interest for the face\n",
        "    roi_color = image[y:y+h, x:x+w]  # Region of interest in color\n",
        "    # Detect eyes in the region of interest\n",
        "    eyes = eye_cascade.detectMultiScale(roi_gray)\n",
        "\n",
        "    # Draw rectangles around the detected eyes\n",
        "    for (ex, ey, ew, eh) in eyes:\n",
        "        # Draw a green rectangle around each detected eye\n",
        "        cv2.rectangle(roi_color, (ex, ey), (ex + ew, ey + eh), (0, 255, 0), 2)\n",
        "\n",
        "# Show the image with detected faces and eyes\n",
        "plt.figure(figsize=(10, 6))  # Adjust the size of the figure\n",
        "plt.imshow(image)\n",
        "plt.axis('off')  # Do not show axes\n",
        "plt.title('Face and Eye Detection', fontsize=16)  # Title\n",
        "plt.show()"
      ],
      "metadata": {
        "id": "BG5U0j0MOKaU"
      },
      "execution_count": null,
      "outputs": []
    },
    {
      "cell_type": "markdown",
      "source": [],
      "metadata": {
        "id": "i88FrciPNvFN"
      }
    }
  ]
}